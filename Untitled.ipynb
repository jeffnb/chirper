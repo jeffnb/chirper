{
 "cells": [
  {
   "cell_type": "code",
   "execution_count": 1,
   "metadata": {
    "collapsed": true
   },
   "outputs": [],
   "source": [
    "class SuperHero:\n",
    "    \n",
    "    def __init__(self, name, power, weakness):\n",
    "        self.name = name\n",
    "        self.power = power\n",
    "        self.weakness = weakness\n",
    "        \n",
    "    def yell_power(self):\n",
    "        print(\"{}!!!!!\".format(self.power))\n",
    "        \n",
    "    def yell_name(self):\n",
    "        print(\"{}!!!!\".format(self.name))"
   ]
  },
  {
   "cell_type": "code",
   "execution_count": 2,
   "metadata": {
    "collapsed": true
   },
   "outputs": [],
   "source": [
    "batman = SuperHero(\"batman\", \"rich\", \"daddy issues\")"
   ]
  },
  {
   "cell_type": "code",
   "execution_count": 17,
   "metadata": {
    "collapsed": true
   },
   "outputs": [],
   "source": [
    "class FlyingMixin:\n",
    "    \n",
    "    def __init__(self, speed):\n",
    "        self.speed = speed\n",
    "    \n",
    "    def fly(self):\n",
    "        print(\"UP UP and AWAY\")\n",
    "        \n",
    "    def yell_power(self):\n",
    "        print(\"You all look like ants\")"
   ]
  },
  {
   "cell_type": "code",
   "execution_count": 9,
   "metadata": {
    "collapsed": false
   },
   "outputs": [
    {
     "name": "stdout",
     "output_type": "stream",
     "text": [
      "UP UP and AWAY\n"
     ]
    }
   ],
   "source": [
    "superman.fly()"
   ]
  },
  {
   "cell_type": "code",
   "execution_count": 10,
   "metadata": {
    "collapsed": false
   },
   "outputs": [
    {
     "name": "stdout",
     "output_type": "stream",
     "text": [
      "Quietly he says Clark Kent\n"
     ]
    }
   ],
   "source": [
    "superman.whisper_name()"
   ]
  },
  {
   "cell_type": "code",
   "execution_count": 18,
   "metadata": {
    "collapsed": true
   },
   "outputs": [],
   "source": [
    "class PublicSuperHero(SuperHero, FlyingMixin):\n",
    "    \n",
    "    def __init__(self, name, power, weakness, alter_ego):\n",
    "        super().__init__(name, power, weakness)\n",
    "        self.alter_ego = alter_ego\n",
    "        \n",
    "    def whisper_alter_ego(self):\n",
    "        print(\"Quietly says {}\".format(self.alter_ego))"
   ]
  },
  {
   "cell_type": "code",
   "execution_count": 19,
   "metadata": {
    "collapsed": true
   },
   "outputs": [],
   "source": [
    "superman = PublicSuperHero(\"superman\", \"everything\", \"green rocks\", \"Clark Kent\")"
   ]
  },
  {
   "cell_type": "code",
   "execution_count": 20,
   "metadata": {
    "collapsed": false
   },
   "outputs": [
    {
     "name": "stdout",
     "output_type": "stream",
     "text": [
      "everything!!!!!\n"
     ]
    }
   ],
   "source": [
    "superman.yell_power()"
   ]
  },
  {
   "cell_type": "code",
   "execution_count": null,
   "metadata": {
    "collapsed": true
   },
   "outputs": [],
   "source": []
  }
 ],
 "metadata": {
  "kernelspec": {
   "display_name": "Python 3",
   "language": "python",
   "name": "python3"
  },
  "language_info": {
   "codemirror_mode": {
    "name": "ipython",
    "version": 3
   },
   "file_extension": ".py",
   "mimetype": "text/x-python",
   "name": "python",
   "nbconvert_exporter": "python",
   "pygments_lexer": "ipython3",
   "version": "3.5.1"
  }
 },
 "nbformat": 4,
 "nbformat_minor": 0
}
