{
 "cells": [
  {
   "cell_type": "code",
   "execution_count": 10,
   "metadata": {
    "collapsed": true
   },
   "outputs": [],
   "source": [
    "from chirps.models import Chirp\n",
    "from rest_framework import serializers\n",
    "from api.serializers import ChirpSerializer\n",
    "from rest_framework.renderers import JSONRenderer\n",
    "from django.utils.six import BytesIO\n",
    "from rest_framework.parsers import JSONParser"
   ]
  },
  {
   "cell_type": "code",
   "execution_count": 2,
   "metadata": {
    "collapsed": true
   },
   "outputs": [],
   "source": [
    "chirp = Chirp.objects.first()"
   ]
  },
  {
   "cell_type": "code",
   "execution_count": 3,
   "metadata": {
    "collapsed": true
   },
   "outputs": [],
   "source": [
    "serializer = ChirpSerializer(chirp)"
   ]
  },
  {
   "cell_type": "code",
   "execution_count": 4,
   "metadata": {
    "collapsed": false
   },
   "outputs": [
    {
     "data": {
      "text/plain": [
       "ReturnDict([('id', 4),\n",
       "            ('subject', ' Boring'),\n",
       "            ('message', 'I hate something boring today'),\n",
       "            ('created_at', '2015-12-06T18:52:32.110658Z'),\n",
       "            ('modified_at', '2016-04-04T18:52:56.998579Z')])"
      ]
     },
     "execution_count": 4,
     "metadata": {},
     "output_type": "execute_result"
    }
   ],
   "source": [
    "serializer.data"
   ]
  },
  {
   "cell_type": "code",
   "execution_count": 6,
   "metadata": {
    "collapsed": true
   },
   "outputs": [],
   "source": [
    "json = JSONRenderer().render(serializer.data)"
   ]
  },
  {
   "cell_type": "code",
   "execution_count": 7,
   "metadata": {
    "collapsed": false
   },
   "outputs": [
    {
     "data": {
      "text/plain": [
       "b'{\"id\":4,\"subject\":\" Boring\",\"message\":\"I hate something boring today\",\"created_at\":\"2015-12-06T18:52:32.110658Z\",\"modified_at\":\"2016-04-04T18:52:56.998579Z\"}'"
      ]
     },
     "execution_count": 7,
     "metadata": {},
     "output_type": "execute_result"
    }
   ],
   "source": [
    "json"
   ]
  },
  {
   "cell_type": "code",
   "execution_count": 12,
   "metadata": {
    "collapsed": false
   },
   "outputs": [],
   "source": [
    "stream = BytesIO(json)\n",
    "data = JSONParser().parse(stream)"
   ]
  },
  {
   "cell_type": "code",
   "execution_count": 13,
   "metadata": {
    "collapsed": false
   },
   "outputs": [
    {
     "data": {
      "text/plain": [
       "{'created_at': '2015-12-06T18:52:32.110658Z',\n",
       " 'id': 4,\n",
       " 'message': 'I hate something boring today',\n",
       " 'modified_at': '2016-04-04T18:52:56.998579Z',\n",
       " 'subject': ' Boring'}"
      ]
     },
     "execution_count": 13,
     "metadata": {},
     "output_type": "execute_result"
    }
   ],
   "source": [
    "data"
   ]
  },
  {
   "cell_type": "code",
   "execution_count": 14,
   "metadata": {
    "collapsed": true
   },
   "outputs": [],
   "source": [
    "serializer = ChirpSerializer(data=data)"
   ]
  },
  {
   "cell_type": "code",
   "execution_count": 15,
   "metadata": {
    "collapsed": false
   },
   "outputs": [
    {
     "data": {
      "text/plain": [
       "True"
      ]
     },
     "execution_count": 15,
     "metadata": {},
     "output_type": "execute_result"
    }
   ],
   "source": [
    "serializer.is_valid()"
   ]
  },
  {
   "cell_type": "code",
   "execution_count": 16,
   "metadata": {
    "collapsed": false
   },
   "outputs": [
    {
     "data": {
      "text/plain": [
       "OrderedDict([('id', 4),\n",
       "             ('subject', 'Boring'),\n",
       "             ('message', 'I hate something boring today'),\n",
       "             ('created_at',\n",
       "              datetime.datetime(2015, 12, 6, 18, 52, 32, 110658, tzinfo=<UTC>)),\n",
       "             ('modified_at',\n",
       "              datetime.datetime(2016, 4, 4, 18, 52, 56, 998579, tzinfo=<UTC>))])"
      ]
     },
     "execution_count": 16,
     "metadata": {},
     "output_type": "execute_result"
    }
   ],
   "source": [
    "serializer.validated_data"
   ]
  },
  {
   "cell_type": "code",
   "execution_count": null,
   "metadata": {
    "collapsed": true
   },
   "outputs": [],
   "source": []
  }
 ],
 "metadata": {
  "kernelspec": {
   "display_name": "Django Shell-Plus",
   "language": "python",
   "name": "django_extensions"
  },
  "language_info": {
   "codemirror_mode": {
    "name": "ipython",
    "version": 3
   },
   "file_extension": ".py",
   "mimetype": "text/x-python",
   "name": "python",
   "nbconvert_exporter": "python",
   "pygments_lexer": "ipython3",
   "version": "3.5.1"
  }
 },
 "nbformat": 4,
 "nbformat_minor": 0
}
